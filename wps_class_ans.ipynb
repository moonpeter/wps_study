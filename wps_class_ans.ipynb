{
 "cells": [
  {
   "cell_type": "markdown",
   "metadata": {},
   "source": [
    "### [wps문제 풀기](https://github.com/WPS-12th/Python/blob/master/11.%20%ED%81%B4%EB%9E%98%EC%8A%A4_%EA%B3%BC%EC%A0%9C.ipynb)"
   ]
  },
  {
   "cell_type": "code",
   "execution_count": 98,
   "metadata": {},
   "outputs": [],
   "source": [
    "class Pokemon:\n",
    "    POKEMON_LIST = []\n",
    "    \n",
    "    def __init__(self, name, nature):\n",
    "        self.friends = []\n",
    "        self.name = name\n",
    "        self.nature = nature\n",
    "        self.__level = 1\n",
    "        Pokemon.POKEMON_LIST.append(self)\n",
    "    \n",
    "    @property\n",
    "    def level(self):\n",
    "        print(self.__level)\n",
    "    \n",
    "    def level_up(self):\n",
    "        self.__level += 1\n",
    "    \n",
    "    def add_friend(self, pokemon):\n",
    "        self.friends.append(pokemon)\n",
    "    \n",
    "    def show_friends(self):\n",
    "        if len(self.friends) == 0:\n",
    "            print(\"피카츄에게는 친구가 없습니다....\")\n",
    "        else:\n",
    "            tmp = []\n",
    "            [tmp.append(i.name) for i in self.friends ]\n",
    "            print('피카츄의 친구들 : {friends} ({cnt}마리)'.format(\\\n",
    "                    friends=\", \".join(tmp),\\\n",
    "                    cnt=len(tmp)))\n",
    "    \n",
    "    @classmethod\n",
    "    def show_total_pokemon(cls):\n",
    "        if len(cls.POKEMON_LIST) == 0:\n",
    "            print(\"포켓몬이 없습니다...\")\n",
    "        else:\n",
    "            tmp = []\n",
    "            [tmp.append(i.name) for i in cls.POKEMON_LIST ]\n",
    "            print('전체 포켓몬 : {friends} ({cnt}마리)'.format(\\\n",
    "                    friends=\", \".join(tmp),\\\n",
    "                    cnt=len(tmp)))\n",
    "    "
   ]
  },
  {
   "cell_type": "code",
   "execution_count": 99,
   "metadata": {},
   "outputs": [
    {
     "name": "stdout",
     "output_type": "stream",
     "text": [
      "포켓몬이 없습니다...\n"
     ]
    }
   ],
   "source": [
    "Pokemon.show_total_pokemon()"
   ]
  },
  {
   "cell_type": "code",
   "execution_count": 100,
   "metadata": {},
   "outputs": [
    {
     "name": "stdout",
     "output_type": "stream",
     "text": [
      "1\n"
     ]
    }
   ],
   "source": [
    "pikachu = Pokemon(name='피카츄', nature='전기')\n",
    "pikachu.level"
   ]
  },
  {
   "cell_type": "code",
   "execution_count": 101,
   "metadata": {},
   "outputs": [
    {
     "name": "stdout",
     "output_type": "stream",
     "text": [
      "2\n"
     ]
    }
   ],
   "source": [
    "pikachu.level_up()\n",
    "pikachu.level"
   ]
  },
  {
   "cell_type": "code",
   "execution_count": 102,
   "metadata": {},
   "outputs": [
    {
     "name": "stdout",
     "output_type": "stream",
     "text": [
      "피카츄에게는 친구가 없습니다....\n"
     ]
    }
   ],
   "source": [
    "butterfree = Pokemon(name='버터플', nature='벌레')\n",
    "starmie = Pokemon(name='아쿠스타', nature='물')\n",
    "eevee = Pokemon(name='이브이', nature='노멀')\n",
    "pikachu.show_friends()"
   ]
  },
  {
   "cell_type": "code",
   "execution_count": 103,
   "metadata": {},
   "outputs": [
    {
     "name": "stdout",
     "output_type": "stream",
     "text": [
      "피카츄의 친구들 : 버터플, 아쿠스타 (2마리)\n"
     ]
    }
   ],
   "source": [
    "pikachu.add_friend(butterfree)\n",
    "pikachu.add_friend(starmie)\n",
    "pikachu.show_friends()"
   ]
  },
  {
   "cell_type": "code",
   "execution_count": 104,
   "metadata": {},
   "outputs": [
    {
     "name": "stdout",
     "output_type": "stream",
     "text": [
      "전체 포켓몬 : 피카츄, 버터플, 아쿠스타, 이브이 (4마리)\n"
     ]
    }
   ],
   "source": [
    "Pokemon.show_total_pokemon()"
   ]
  }
 ],
 "metadata": {
  "kernelspec": {
   "display_name": "Python 3",
   "language": "python",
   "name": "python3"
  },
  "language_info": {
   "codemirror_mode": {
    "name": "ipython",
    "version": 3
   },
   "file_extension": ".py",
   "mimetype": "text/x-python",
   "name": "python",
   "nbconvert_exporter": "python",
   "pygments_lexer": "ipython3",
   "version": "3.7.5"
  }
 },
 "nbformat": 4,
 "nbformat_minor": 2
}
